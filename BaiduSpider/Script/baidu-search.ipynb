{
 "cells": [
  {
   "cell_type": "code",
   "execution_count": 1,
   "metadata": {},
   "outputs": [],
   "source": [
    "from baiduspider import BaiduSpider\n",
    "from pprint import pprint"
   ]
  },
  {
   "cell_type": "code",
   "execution_count": 2,
   "metadata": {},
   "outputs": [],
   "source": [
    "spider = BaiduSpider(cookie=\"__yjs_duid=1_ef700165fca6aa8c00b6f5afc87a9d1d1643862049854; BIDUPSID=7D55E4585B124F3DA7EA930F411ED7C7; PSTM=1645434648; BAIDUID_BFESS=7D55E4585B124F3DA7EA930F411ED7C7:FG=1; H_WISE_SIDS=110085_131862_180638_188748_194529_204916_211986_212295_213040_213354_214807_215727_216854_216942_219564_219943_219946_222624_223064_224045_224049_224894_226006_226628_226814_227266_227932_228369_228650_229154_229493_229813_229905_229913_229968_230084_230241_230245_230249_230287_230435_230584_230930_231627_231759_231904_231919_231979_232246_232617_232626_232777_232781_232822_232880_232909_232919_232959_233368_233399_233466_233518_233587_233600_233719_233924_234044_234050_234207_234229_234288_234296_234382_234425_234450_234519_234553_234584_234656_234685_234725_234779_234816_234923_234952_234960_234981_235078_235130_235180_235200_235229_235255_235453_235479_235484_235534_235585_235600_235716_235771_235928_235979_236021_236047_236049_236084_236101_236212_236341_236514_236516_236523_236528_236611; H_WISE_SIDS_BFESS=110085_131862_180638_188748_194529_204916_211986_212295_213040_213354_214807_215727_216854_216942_219564_219943_219946_222624_223064_224045_224049_224894_226006_226628_226814_227266_227932_228369_228650_229154_229493_229813_229905_229913_229968_230084_230241_230245_230249_230287_230435_230584_230930_231627_231759_231904_231919_231979_232246_232617_232626_232777_232781_232822_232880_232909_232919_232959_233368_233399_233466_233518_233587_233600_233719_233924_234044_234050_234207_234229_234288_234296_234382_234425_234450_234519_234553_234584_234656_234685_234725_234779_234816_234923_234952_234960_234981_235078_235130_235180_235200_235229_235255_235453_235479_235484_235534_235585_235600_235716_235771_235928_235979_236021_236047_236049_236084_236101_236212_236341_236514_236516_236523_236528_236611; MSA_WH=1519_722; COOKIE_SESSION=17_1_1_1_1_w1_1_2_1_0_0_1_16_1668999350%7C2%230_0_0_0_0_0_0_0_1668999333%7C1; FC_MODEL=10.91_1_1_0_0_0_1_0_0_0_0_10.91_1_1_1_8_0_1669010284_1668999350%7C2%230_10.91_10.91_1_1_1669010284_1668999350%7C2%230_0_0_0_0_0_140_1668999350; __bid_n=184516127914de354b4207; FEID=v10-0ec9358f705ad15af5c08dc6a83abee2b0a89a04; __xaf_fpstarttimer__=1671859007923; __xaf_thstime__=1671859008039; __xaf_fptokentimer__=1671859008109; FPTOKEN=i/3BO99I8eAeCY/GWV0OxzZY6wSnGsn4CCTHQqrDhJ4+NpKur99h8aFY31RsbSm03Xagybg00IkafSqsBFhAchsFdpKBYt2lkS4r8VcsKmDYCaZoalFTZaz93JOaNCNZqX544Fl/nh6L7NVYlH5ge5MaRSFMfgJNY7gaDKA154lR0zR9alkEiGKyJn8JXEdhfjBnpx994aKsi2pWZRCXsJNtLitEQJGjJ4l7j7pdTZclw5orTpw8O+eIUFL4HQsrBwdlxsKQABL81wCu0IInuhigWTkB3C68r7tGeCGb5Xj+m0UOCa8uJraLJP0KIuN79OvhcAC/neUNlVOgWGEdPLJood/3REe4J3U4+gVCqRdQqtdjLvKIoYymOO4IFRyK+BbKwNADVdDc0NNHnIo5Bg==|t5anH/GKqUkIJrNRh1sae7ZM2APPvQxUl8uRgvPYa5A=|10|fdec242c5e1de56b02684c549cf96c2a; ZFY=a6qbGDAQIUH4OlJpyFjjS2MVzZrDWVuoIxKQkxSBvE0:C; BD_UPN=12314753; BDRCVFR[OEHfjv-pq1f]=mk3SLVN4HKm; BD_HOME=1; BA_HECTOR=2004a4218h2581al05ah20eh1hun7011k; delPer=0; BD_CK_SAM=1; PSINO=7; H_PS_PSSID=36558_38094_38058_37906_38148_37989_38177_38171_37794_37938_38088_26350_37959_38096_38008_37881; BDORZ=B490B5EBF6F3CD402E515D22BCDA1598; channel=baiduspider.github.io; B64_BOT=1; H_PS_645EC=d45erc7tBNke%2FgUBAoi%2B%2FkF54ROEvSDLBwkFQqyRq8ClQTtDhiodCEI3hec; baikeVisitId=64d2a705-21ec-4294-93f7-303144652d76\")"
   ]
  },
  {
   "cell_type": "code",
   "execution_count": 6,
   "metadata": {},
   "outputs": [
    {
     "name": "stdout",
     "output_type": "stream",
     "text": [
      "<object WebResult>\n"
     ]
    }
   ],
   "source": [
    "mydict=pprint(spider.search_web(query='东莞'))"
   ]
  },
  {
   "cell_type": "code",
   "execution_count": 7,
   "metadata": {},
   "outputs": [
    {
     "ename": "AttributeError",
     "evalue": "'NoneType' object has no attribute 'items'",
     "output_type": "error",
     "traceback": [
      "\u001b[1;31m---------------------------------------------------------------------------\u001b[0m",
      "\u001b[1;31mAttributeError\u001b[0m                            Traceback (most recent call last)",
      "\u001b[1;32m<ipython-input-7-0f37c4e085b3>\u001b[0m in \u001b[0;36m<module>\u001b[1;34m\u001b[0m\n\u001b[1;32m----> 1\u001b[1;33m \u001b[1;32mfor\u001b[0m \u001b[0mkey\u001b[0m\u001b[1;33m,\u001b[0m \u001b[0mvalue\u001b[0m \u001b[1;32min\u001b[0m \u001b[0mlist\u001b[0m\u001b[1;33m(\u001b[0m\u001b[0mmydict\u001b[0m\u001b[1;33m.\u001b[0m\u001b[0mitems\u001b[0m\u001b[1;33m(\u001b[0m\u001b[1;33m)\u001b[0m\u001b[1;33m)\u001b[0m\u001b[1;33m[\u001b[0m\u001b[1;33m:\u001b[0m\u001b[1;36m3\u001b[0m\u001b[1;33m]\u001b[0m\u001b[1;33m:\u001b[0m\u001b[1;33m\u001b[0m\u001b[1;33m\u001b[0m\u001b[0m\n\u001b[0m\u001b[0;32m      2\u001b[0m     \u001b[0mprint\u001b[0m\u001b[1;33m(\u001b[0m\u001b[0mkey\u001b[0m\u001b[1;33m,\u001b[0m \u001b[0mvalue\u001b[0m\u001b[1;33m)\u001b[0m\u001b[1;33m\u001b[0m\u001b[1;33m\u001b[0m\u001b[0m\n",
      "\u001b[1;31mAttributeError\u001b[0m: 'NoneType' object has no attribute 'items'"
     ]
    }
   ],
   "source": [
    "for key, value in list(mydict.items())[:3]:\n",
    "    print(key, value)\n"
   ]
  }
 ],
 "metadata": {
  "kernelspec": {
   "display_name": "base",
   "language": "python",
   "name": "python3"
  },
  "language_info": {
   "codemirror_mode": {
    "name": "ipython",
    "version": 3
   },
   "file_extension": ".py",
   "mimetype": "text/x-python",
   "name": "python",
   "nbconvert_exporter": "python",
   "pygments_lexer": "ipython3",
   "version": "3.8.5"
  },
  "orig_nbformat": 4,
  "vscode": {
   "interpreter": {
    "hash": "e42634819b8c191a5d07eaf23810ff32516dd8d3875f28ec3e488928fbd3c187"
   }
  }
 },
 "nbformat": 4,
 "nbformat_minor": 2
}
